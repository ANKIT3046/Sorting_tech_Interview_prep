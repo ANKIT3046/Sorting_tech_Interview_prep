{
  "nbformat": 4,
  "nbformat_minor": 0,
  "metadata": {
    "colab": {
      "name": "interview_prog_prep.ipynb",
      "provenance": [],
      "authorship_tag": "ABX9TyNBFxzlx0KORTm3qBtZCcef",
      "include_colab_link": true
    },
    "kernelspec": {
      "name": "python3",
      "display_name": "Python 3"
    }
  },
  "cells": [
    {
      "cell_type": "markdown",
      "metadata": {
        "id": "view-in-github",
        "colab_type": "text"
      },
      "source": [
        "<a href=\"https://colab.research.google.com/github/amitthakur2013/Sorting_tech_Interview_prep/blob/master/interview_prog_prep.ipynb\" target=\"_parent\"><img src=\"https://colab.research.google.com/assets/colab-badge.svg\" alt=\"Open In Colab\"/></a>"
      ]
    },
    {
      "cell_type": "code",
      "metadata": {
        "id": "uKaDN3zXvsn3",
        "colab_type": "code",
        "colab": {
          "base_uri": "https://localhost:8080/",
          "height": 51
        },
        "outputId": "59f71cac-635f-45fa-cae6-a3d20cf24000"
      },
      "source": [
        "#Insertion_Sort\n",
        "l=list(map(int,input().split()))\n",
        "\n",
        "for i in range(1,len(l)):\n",
        "  value=l[i]\n",
        "  hole=i\n",
        "  while(hole > 0 and value < l[hole-1]):\n",
        "    l[hole]=l[hole-1]\n",
        "    hole-=1\n",
        "  l[hole]=value\n",
        "l"
      ],
      "execution_count": 2,
      "outputs": [
        {
          "output_type": "stream",
          "text": [
            "8 7 6 2\n"
          ],
          "name": "stdout"
        },
        {
          "output_type": "execute_result",
          "data": {
            "text/plain": [
              "[2, 6, 7, 8]"
            ]
          },
          "metadata": {
            "tags": []
          },
          "execution_count": 2
        }
      ]
    },
    {
      "cell_type": "code",
      "metadata": {
        "id": "eksN3I0m72n0",
        "colab_type": "code",
        "colab": {
          "base_uri": "https://localhost:8080/",
          "height": 51
        },
        "outputId": "62c81469-5dac-46a4-cb3a-4a9dbd2f45a0"
      },
      "source": [
        "#Bubble Sort\n",
        "l=list(map(int,input().split()))\n",
        "\n",
        "n=len(l)\n",
        "\n",
        "for i in range(0,n-1):\n",
        "  flag=0\n",
        "  for j in range(0,n-i-1):\n",
        "    if l[j+1]<l[j]:\n",
        "      l[j],l[j+1]=l[j+1],l[j]\n",
        "      flag=1\n",
        "  if flag==0:\n",
        "    break\n",
        "l"
      ],
      "execution_count": 3,
      "outputs": [
        {
          "output_type": "stream",
          "text": [
            "8 7 6 5 1\n"
          ],
          "name": "stdout"
        },
        {
          "output_type": "execute_result",
          "data": {
            "text/plain": [
              "[1, 5, 6, 7, 8]"
            ]
          },
          "metadata": {
            "tags": []
          },
          "execution_count": 3
        }
      ]
    },
    {
      "cell_type": "code",
      "metadata": {
        "id": "75zd_Lvo9ocK",
        "colab_type": "code",
        "colab": {
          "base_uri": "https://localhost:8080/",
          "height": 34
        },
        "outputId": "34645a35-1b4a-4617-dc0f-5265bc794c21"
      },
      "source": [
        "# Selection Sort\n",
        "l=[8,7,6,5]\n",
        "n=len(l)\n",
        "for i in range(0,n):\n",
        "  min_idx=i\n",
        "  for j in range(i+1,n):\n",
        "    if l[j]<l[min_idx]:\n",
        "      min_idx=j\n",
        "\n",
        "  l[i],l[min_idx]=l[min_idx],l[i]\n",
        "l"
      ],
      "execution_count": 7,
      "outputs": [
        {
          "output_type": "execute_result",
          "data": {
            "text/plain": [
              "[5, 6, 7, 8]"
            ]
          },
          "metadata": {
            "tags": []
          },
          "execution_count": 7
        }
      ]
    },
    {
      "cell_type": "code",
      "metadata": {
        "id": "0cKst-le_zyx",
        "colab_type": "code",
        "colab": {
          "base_uri": "https://localhost:8080/",
          "height": 34
        },
        "outputId": "c1a6fe4c-487a-4000-a747-da8185241ae4"
      },
      "source": [
        "#Fibonacci using iteration \n",
        "n=20\n",
        "a,b=0,1\n",
        "print(a,\"\",b,end=\" \")\n",
        "for i in range(3,n+1):\n",
        "  c=a+b\n",
        "  print(c,end=\" \")\n",
        "  a=b\n",
        "  b=c\n"
      ],
      "execution_count": 15,
      "outputs": [
        {
          "output_type": "stream",
          "text": [
            "0  1 1 2 3 5 8 13 21 34 55 89 144 233 377 610 987 1597 2584 4181 "
          ],
          "name": "stdout"
        }
      ]
    },
    {
      "cell_type": "code",
      "metadata": {
        "id": "0DBPapklA-GX",
        "colab_type": "code",
        "colab": {
          "base_uri": "https://localhost:8080/",
          "height": 34
        },
        "outputId": "36e57828-aaa0-4ae7-8720-80e17dfa9a3b"
      },
      "source": [
        "# Fibonacci using Recursion\n",
        "def fibo(n):\n",
        "  if n==0 or n==1:\n",
        "    return n \n",
        "  else:\n",
        "    return fibo(n-1)+fibo(n-2)\n",
        "fibo(5)"
      ],
      "execution_count": 20,
      "outputs": [
        {
          "output_type": "execute_result",
          "data": {
            "text/plain": [
              "5"
            ]
          },
          "metadata": {
            "tags": []
          },
          "execution_count": 20
        }
      ]
    },
    {
      "cell_type": "code",
      "metadata": {
        "id": "BLRCz9bzBsW0",
        "colab_type": "code",
        "colab": {
          "base_uri": "https://localhost:8080/",
          "height": 34
        },
        "outputId": "0c37a093-19b1-4080-9763-b4fe1d6d1cb1"
      },
      "source": [
        "# Fibonacci using db bottom up\n",
        "n=20\n",
        "a=[0 for _ in range(n)]\n",
        "a[1]=1\n",
        "for i in range(2,n):\n",
        "  a[i]=a[i-1]+a[i-2]\n",
        "a[19]"
      ],
      "execution_count": 25,
      "outputs": [
        {
          "output_type": "execute_result",
          "data": {
            "text/plain": [
              "4181"
            ]
          },
          "metadata": {
            "tags": []
          },
          "execution_count": 25
        }
      ]
    },
    {
      "cell_type": "code",
      "metadata": {
        "id": "q6Q2ruJRCM1E",
        "colab_type": "code",
        "colab": {}
      },
      "source": [
        ""
      ],
      "execution_count": null,
      "outputs": []
    }
  ]
}