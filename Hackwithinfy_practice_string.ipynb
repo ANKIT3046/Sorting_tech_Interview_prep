{
  "nbformat": 4,
  "nbformat_minor": 0,
  "metadata": {
    "colab": {
      "name": "Hackwithinfy_practice_string.ipynb",
      "provenance": [],
      "collapsed_sections": [],
      "authorship_tag": "ABX9TyP7DlV2CYyaimyD6dRaSbFZ",
      "include_colab_link": true
    },
    "kernelspec": {
      "name": "python3",
      "display_name": "Python 3"
    }
  },
  "cells": [
    {
      "cell_type": "markdown",
      "metadata": {
        "id": "view-in-github",
        "colab_type": "text"
      },
      "source": [
        "<a href=\"https://colab.research.google.com/github/amitthakur2013/Sorting_tech_Interview_prep/blob/master/Hackwithinfy_practice_string.ipynb\" target=\"_parent\"><img src=\"https://colab.research.google.com/assets/colab-badge.svg\" alt=\"Open In Colab\"/></a>"
      ]
    },
    {
      "cell_type": "code",
      "metadata": {
        "id": "qAr5tww-vXa_",
        "colab_type": "code",
        "colab": {}
      },
      "source": [
        "#permute string\n",
        "def permute(a,l,r):\n",
        "\n",
        "  if l==r:\n",
        "    print(\"\".join(a))\n",
        "  else:\n",
        "    for i in range(l,r+1):\n",
        "      a[i],a[l]=a[l],a[i]\n",
        "      permute(a,l+1,r) \n",
        "      a[i],a[l]=a[l],a[i]\n",
        "\n",
        "s=\"ABC\"\n",
        "permute(list(s),0,3-1)\n",
        "  "
      ],
      "execution_count": null,
      "outputs": []
    },
    {
      "cell_type": "code",
      "metadata": {
        "id": "015l4HeyvVsJ",
        "colab_type": "code",
        "colab": {}
      },
      "source": [
        ""
      ],
      "execution_count": null,
      "outputs": []
    },
    {
      "cell_type": "code",
      "metadata": {
        "id": "h77HhpKgDvtA",
        "colab_type": "code",
        "colab": {}
      },
      "source": [
        "s=input()\n",
        "l=list(s)\n",
        "count=[0 for _ in range(26)]\n",
        "for i in l:\n",
        "  count[ord(i)-97]+=1\n",
        "k=\"\"\n",
        "for ind,val in enumerate(count):\n",
        "  if val!=0:\n",
        "    k+=chr(ind+97)+str(val)\n",
        "if len(k)<=len(s):\n",
        "  print(k)\n",
        "else:\n",
        "  print(s)"
      ],
      "execution_count": null,
      "outputs": []
    },
    {
      "cell_type": "code",
      "metadata": {
        "id": "ExFHeH4SsVMZ",
        "colab_type": "code",
        "colab": {
          "base_uri": "https://localhost:8080/",
          "height": 51
        },
        "outputId": "fb76a48b-c6b6-4fb7-d3c4-220b8a68aa5f"
      },
      "source": [
        "s=input()\n",
        "s+=\" \"\n",
        "k=\"\"\n",
        "cnt=0\n",
        "m=[]\n",
        "for i in s:\n",
        "  if i not in m:\n",
        "    if cnt!=0:\n",
        "      k+=str(cnt)\n",
        "    if i==\" \":\n",
        "      break\n",
        "    k+=i\n",
        "    cnt=1\n",
        "    m.append(i)\n",
        "  else:\n",
        "    cnt+=1\n",
        "if len(s)<len(k):\n",
        "  print(s)\n",
        "else:\n",
        "  print(k)\n",
        "\n"
      ],
      "execution_count": null,
      "outputs": [
        {
          "output_type": "stream",
          "text": [
            "a\n",
            "a1\n"
          ],
          "name": "stdout"
        }
      ]
    },
    {
      "cell_type": "code",
      "metadata": {
        "id": "EOs7nio_sXqp",
        "colab_type": "code",
        "colab": {}
      },
      "source": [
        "#First non repeating character\n",
        "s=\"aaaabbdffhhjhkk\"\n",
        "d=dict.fromkeys(set(s),0)\n",
        "for i in s:\n",
        "  d[i]+=1\n",
        "for i in s:\n",
        "  if d[i]==1:\n",
        "    print(i)\n",
        "    break"
      ],
      "execution_count": null,
      "outputs": []
    },
    {
      "cell_type": "code",
      "metadata": {
        "id": "z7fPlj5PiZRG",
        "colab_type": "code",
        "colab": {
          "base_uri": "https://localhost:8080/",
          "height": 51
        },
        "outputId": "7c6b0d21-423e-452c-dcc0-6033a29e3085"
      },
      "source": [
        "#Sorted Squared Subarray\n",
        "l=list(map(int,input().split()))\n",
        "l=list(map(lambda x:abs(x),l))\n",
        "l.sort() \n",
        "l=list(map(lambda x:x**2,l))\n",
        "l"
      ],
      "execution_count": null,
      "outputs": [
        {
          "output_type": "stream",
          "text": [
            "-7 -3 -1 4 8 12\n"
          ],
          "name": "stdout"
        },
        {
          "output_type": "execute_result",
          "data": {
            "text/plain": [
              "[1, 9, 16, 49, 64, 144]"
            ]
          },
          "metadata": {
            "tags": []
          },
          "execution_count": 7
        }
      ]
    },
    {
      "cell_type": "code",
      "metadata": {
        "id": "nvg7Fh0wslRN",
        "colab_type": "code",
        "colab": {}
      },
      "source": [
        "#Print the maximum occuring character in a String :\n",
        "\n",
        "s=input()\n",
        "d=dict.fromkeys(list(set(s)),0)\n",
        "for i in s:\n",
        "  d[i]+=1\n",
        "max1=\"\"\n",
        "max_val=0\n",
        "for i in d.keys():\n",
        "  if d[i]>max_val:\n",
        "    max_val=d[i]\n",
        "    max1=i \n",
        "print(max1)"
      ],
      "execution_count": null,
      "outputs": []
    },
    {
      "cell_type": "code",
      "metadata": {
        "id": "L1ZDapNxcA0V",
        "colab_type": "code",
        "colab": {
          "base_uri": "https://localhost:8080/",
          "height": 51
        },
        "outputId": "d59e079a-5081-4920-c0a4-89bcd6503c32"
      },
      "source": [
        "#Remove duplicates of 2nd and further\n",
        "\n",
        "s=input()\n",
        "l=set()\n",
        "for i in s:\n",
        "  l.add(i)\n",
        "ans=\"\"\n",
        "for i in s:\n",
        "  if i in l:\n",
        "    l.remove(i)\n",
        "    ans+=i\n",
        "print(ans)"
      ],
      "execution_count": null,
      "outputs": [
        {
          "output_type": "stream",
          "text": [
            "jjjdjbfjs\n",
            "jdbfs\n"
          ],
          "name": "stdout"
        }
      ]
    },
    {
      "cell_type": "code",
      "metadata": {
        "id": "eNyVpj3WdgQs",
        "colab_type": "code",
        "colab": {
          "base_uri": "https://localhost:8080/",
          "height": 51
        },
        "outputId": "b9438584-cf2e-40c1-fd1b-6d44fe2220ad"
      },
      "source": [
        "#Print duplicate characters from the given string\n",
        "\n",
        "s=input()\n",
        "d=dict.fromkeys(list(set(s)),0)\n",
        "for i in s:\n",
        "  d[i]+=1\n",
        "for i in s:\n",
        "  if i in d:\n",
        "    if d[i]>1:\n",
        "      print(i,end=\" \")\n",
        "      del d[i]"
      ],
      "execution_count": null,
      "outputs": [
        {
          "output_type": "stream",
          "text": [
            "Java and Javascript\n",
            "J a v   "
          ],
          "name": "stdout"
        }
      ]
    },
    {
      "cell_type": "code",
      "metadata": {
        "id": "aGZD9990h24W",
        "colab_type": "code",
        "colab": {
          "base_uri": "https://localhost:8080/",
          "height": 68
        },
        "outputId": "f77240f8-f87e-4bbe-cd0a-9c491eacbe8b"
      },
      "source": [
        "#Remove characters from the second string :\n",
        "s1=input()\n",
        "s2=set(input().lower())\n",
        "\n",
        "orig=set(s1.lower())\n",
        "orig=orig-s2\n",
        "\n",
        "k=\"\"\n",
        "for i in s1:\n",
        "  if i in orig or i.upper() in orig or i.lower() in orig:\n",
        "    k+=i\n",
        "print(k)\n"
      ],
      "execution_count": null,
      "outputs": [
        {
          "output_type": "stream",
          "text": [
            "India is Great\n",
            "in\n",
            "da s Great\n"
          ],
          "name": "stdout"
        }
      ]
    },
    {
      "cell_type": "code",
      "metadata": {
        "id": "-10gfIdjo8e3",
        "colab_type": "code",
        "colab": {
          "base_uri": "https://localhost:8080/",
          "height": 34
        },
        "outputId": "62241e6f-4971-41c0-f794-6e79cea86547"
      },
      "source": [
        "[[1,2,3,4,5,6,7,8,9]]*2"
      ],
      "execution_count": null,
      "outputs": [
        {
          "output_type": "execute_result",
          "data": {
            "text/plain": [
              "[[1, 2, 3, 4, 5, 6, 7, 8, 9], [1, 2, 3, 4, 5, 6, 7, 8, 9]]"
            ]
          },
          "metadata": {
            "tags": []
          },
          "execution_count": 2
        }
      ]
    },
    {
      "cell_type": "code",
      "metadata": {
        "id": "O3Fm6xwYUumV",
        "colab_type": "code",
        "colab": {}
      },
      "source": [
        "eval(\"52*2+1\")"
      ],
      "execution_count": null,
      "outputs": []
    },
    {
      "cell_type": "code",
      "metadata": {
        "id": "FNNOmzomWbvR",
        "colab_type": "code",
        "colab": {}
      },
      "source": [
        "# String 2 is rotation of string 1\n",
        "s=input()\n",
        "c=input()\n",
        "s=s+s\n",
        "if c in s:\n",
        "  print(\"Yes\")\n",
        "else:\n",
        "  print(\"No\")\n"
      ],
      "execution_count": null,
      "outputs": []
    },
    {
      "cell_type": "code",
      "metadata": {
        "id": "IUwnDx3R4qBL",
        "colab_type": "code",
        "colab": {
          "base_uri": "https://localhost:8080/",
          "height": 51
        },
        "outputId": "a64b2a01-ce96-48c8-998b-ef6a0694225b"
      },
      "source": [
        "# Reverse a String\n",
        "s=input()\n",
        "k=\"\"\n",
        "for i in s:\n",
        "  k=i+k\n",
        "print(k)"
      ],
      "execution_count": null,
      "outputs": [
        {
          "output_type": "stream",
          "text": [
            "madam\n",
            "madam\n"
          ],
          "name": "stdout"
        }
      ]
    },
    {
      "cell_type": "code",
      "metadata": {
        "id": "atqvCzGN5BFI",
        "colab_type": "code",
        "colab": {
          "base_uri": "https://localhost:8080/",
          "height": 119
        },
        "outputId": "4081700d-e361-4b07-f7d4-9a1697fde5a2"
      },
      "source": [
        "# All permutation of a string\n",
        "def permute(s,l,r):\n",
        "  if l==r:\n",
        "    print(\"\".join(s))\n",
        "  else:\n",
        "    for i in range(l,r+1):\n",
        "      s[i],s[l]=s[l],s[i]\n",
        "      permute(s,l+1,r) \n",
        "      s[i],s[l]=s[l],s[i]\n",
        "\n",
        "a=\"ABC\"\n",
        "permute(list(a),0,3-1)\n",
        "      "
      ],
      "execution_count": null,
      "outputs": [
        {
          "output_type": "stream",
          "text": [
            "ABC\n",
            "ACB\n",
            "BAC\n",
            "BCA\n",
            "CBA\n",
            "CAB\n"
          ],
          "name": "stdout"
        }
      ]
    },
    {
      "cell_type": "code",
      "metadata": {
        "id": "lx99ArXd6MsD",
        "colab_type": "code",
        "colab": {
          "base_uri": "https://localhost:8080/",
          "height": 51
        },
        "outputId": "19b131d1-7f63-4fff-b5ec-cb90ebe4d0f6"
      },
      "source": [
        "#First non repeating character\n",
        "s=input()\n",
        "d=dict.fromkeys(set(s),0)\n",
        "for i in s:\n",
        "  d[i]+=1 \n",
        "for i in s:\n",
        "  if d[i]==1:\n",
        "    print(i)\n",
        "    break"
      ],
      "execution_count": null,
      "outputs": [
        {
          "output_type": "stream",
          "text": [
            "java\n",
            "j\n"
          ],
          "name": "stdout"
        }
      ]
    },
    {
      "cell_type": "code",
      "metadata": {
        "id": "X1k6t24q69IG",
        "colab_type": "code",
        "colab": {}
      },
      "source": [
        "# Reverse words\n",
        "s=input().strip()\n",
        "s+=\" \"\n",
        "a=\"\"\n",
        "k=\"\"\n",
        "for i in s:\n",
        "  if i!=\" \":\n",
        "    a+=i \n",
        "  else:\n",
        "    k=a+\" \"+k\n",
        "    a=\"\"\n",
        "print(k)\n"
      ],
      "execution_count": null,
      "outputs": []
    },
    {
      "cell_type": "code",
      "metadata": {
        "id": "Qycv06ql8BaN",
        "colab_type": "code",
        "colab": {
          "base_uri": "https://localhost:8080/",
          "height": 51
        },
        "outputId": "a5f74f55-981a-4c12-bf6b-dd295789f4f2"
      },
      "source": [
        "# Count number of words in a string\n",
        "s=input().strip()\n",
        "cnt=0\n",
        "for i in s:\n",
        "  if i==\" \":\n",
        "    cnt+=1\n",
        "print(cnt+1)"
      ],
      "execution_count": null,
      "outputs": [
        {
          "output_type": "stream",
          "text": [
            "hvhjd hbdhbd jkhjd      \n",
            "3\n"
          ],
          "name": "stdout"
        }
      ]
    },
    {
      "cell_type": "code",
      "metadata": {
        "id": "EzkS9AyW-Kg5",
        "colab_type": "code",
        "colab": {
          "base_uri": "https://localhost:8080/",
          "height": 34
        },
        "outputId": "c5099728-2c90-4faa-dcc4-b472cbe5e725"
      },
      "source": [
        "# Find Factorial Of a Number\n",
        "def fact(n):\n",
        "  if n==1:\n",
        "    return 1\n",
        "  else:\n",
        "    return n*fact(n-1)\n",
        "fact(4)"
      ],
      "execution_count": null,
      "outputs": [
        {
          "output_type": "execute_result",
          "data": {
            "text/plain": [
              "24"
            ]
          },
          "metadata": {
            "tags": []
          },
          "execution_count": 21
        }
      ]
    },
    {
      "cell_type": "code",
      "metadata": {
        "id": "sSKqrrDiCeeh",
        "colab_type": "code",
        "colab": {
          "base_uri": "https://localhost:8080/",
          "height": 51
        },
        "outputId": "a01058fe-1947-42f7-e817-26a5bb016786"
      },
      "source": [
        "# Find factorial using recursion:\n",
        "n=int(input())\n",
        "fact=1\n",
        "for i in range(1,n+1):\n",
        "  fact*=i\n",
        "print(fact)"
      ],
      "execution_count": null,
      "outputs": [
        {
          "output_type": "stream",
          "text": [
            "6\n",
            "720\n"
          ],
          "name": "stdout"
        }
      ]
    },
    {
      "cell_type": "code",
      "metadata": {
        "id": "MQ12sm0CCxzS",
        "colab_type": "code",
        "colab": {
          "base_uri": "https://localhost:8080/",
          "height": 34
        },
        "outputId": "58d7a54c-580e-4693-fef0-561615cdb4f1"
      },
      "source": [
        "# Fibonacci no\n",
        "def fibo(n):\n",
        "  if n==0 or n==1:\n",
        "    return n\n",
        "  else:\n",
        "    return fibo(n-1)+fibo(n-2)\n",
        "fibo(5)"
      ],
      "execution_count": null,
      "outputs": [
        {
          "output_type": "execute_result",
          "data": {
            "text/plain": [
              "5"
            ]
          },
          "metadata": {
            "tags": []
          },
          "execution_count": 25
        }
      ]
    },
    {
      "cell_type": "code",
      "metadata": {
        "id": "4GG2jLTtDmpB",
        "colab_type": "code",
        "colab": {
          "base_uri": "https://localhost:8080/",
          "height": 34
        },
        "outputId": "49cbaafd-9bcc-4bc9-80b7-640f609f6b7e"
      },
      "source": [
        "n=3\n",
        "dp=[0 for _ in range(n+1)]\n",
        "dp[1]=1\n",
        "for i in range(2,n+1):\n",
        "  dp[i]=dp[i-1]+dp[i-2]\n",
        "print(dp[n])"
      ],
      "execution_count": null,
      "outputs": [
        {
          "output_type": "stream",
          "text": [
            "2\n"
          ],
          "name": "stdout"
        }
      ]
    },
    {
      "cell_type": "code",
      "metadata": {
        "id": "C9NbRkLaEPxe",
        "colab_type": "code",
        "colab": {
          "base_uri": "https://localhost:8080/",
          "height": 34
        },
        "outputId": "e711ada0-13a0-4c6f-bcdd-cd6fb7b7ef8a"
      },
      "source": [
        "def gcd(a,b):\n",
        "  if a%b==0:\n",
        "    return b\n",
        "  else:\n",
        "    return gcd(b,a%b)\n",
        "gcd(6,3)"
      ],
      "execution_count": null,
      "outputs": [
        {
          "output_type": "execute_result",
          "data": {
            "text/plain": [
              "3"
            ]
          },
          "metadata": {
            "tags": []
          },
          "execution_count": 6
        }
      ]
    },
    {
      "cell_type": "code",
      "metadata": {
        "id": "RjQ0VT4H9kfD",
        "colab_type": "code",
        "colab": {
          "base_uri": "https://localhost:8080/",
          "height": 34
        },
        "outputId": "bc0042a4-eb12-46b8-9adc-911cdfb2c6bd"
      },
      "source": [
        "#Find duplicates from array using recursion\n",
        "lis=[]\n",
        "s=set()\n",
        "def duplicate(arr,l,r):\n",
        "  if l>r:\n",
        "    return\n",
        "  else:\n",
        "    if arr[l] not in lis:\n",
        "      lis.append(arr[l])\n",
        "    else:\n",
        "      s.add(arr[l])\n",
        "    duplicate(arr,l+1,r)\n",
        "duplicate([1,2,3,1,4,4,5,7],0,7)\n",
        "print(s)\n"
      ],
      "execution_count": 3,
      "outputs": [
        {
          "output_type": "stream",
          "text": [
            "{1, 4}\n"
          ],
          "name": "stdout"
        }
      ]
    },
    {
      "cell_type": "code",
      "metadata": {
        "id": "UZ8CtnEFB0b_",
        "colab_type": "code",
        "colab": {
          "base_uri": "https://localhost:8080/",
          "height": 462
        },
        "outputId": "9a635726-069e-43f9-d0af-4fdb56451f61"
      },
      "source": [
        "def printfun(N,val,cnt):\n",
        "    if val==N and cnt>0:\n",
        "        return\n",
        "    else:\n",
        "        print(val,end=\" \")\n",
        "        if val>0:\n",
        "            val=val-5\n",
        "        else:\n",
        "            val=val+5\n",
        "        printfun(N,val,cnt+1)\n",
        "            \n",
        "    \n",
        "\n",
        "t=int(input())\n",
        "for _ in range(t):\n",
        "    n=int(input())\n",
        "    printfun(n,n,0)\n",
        "    print()"
      ],
      "execution_count": 4,
      "outputs": [
        {
          "output_type": "stream",
          "text": [
            "1\n",
            "16\n",
            "16 11 6 1 -4 1 -4 1 -4 1 -4 1 -4 1 -4 1 -4 1 -4 1 -4 1 -4 1 -4 1 -4 1 -4 1 -4 1 -4 1 -4 1 -4 1 -4 1 -4 1 -4 1 -4 1 -4 1 -4 1 -4 1 -4 1 -4 1 -4 1 -4 1 -4 1 -4 1 -4 1 -4 1 -4 1 -4 1 -4 1 -4 1 -4 1 -4 1 -4 1 -4 1 -4 1 -4 1 -4 1 -4 1 -4 1 -4 1 -4 1 -4 1 -4 1 -4 1 -4 1 -4 1 -4 1 -4 1 -4 1 -4 1 -4 1 -4 1 -4 1 -4 1 -4 1 -4 1 -4 1 -4 1 -4 1 -4 1 -4 1 -4 1 -4 1 -4 1 -4 1 -4 1 -4 1 -4 1 -4 1 -4 1 -4 1 -4 1 -4 1 -4 1 -4 1 -4 1 -4 1 -4 1 -4 1 -4 1 -4 1 -4 1 -4 1 -4 1 -4 1 -4 1 -4 1 -4 1 -4 1 -4 1 -4 1 -4 1 -4 1 -4 1 -4 1 -4 1 -4 1 -4 1 -4 1 -4 1 -4 1 -4 1 -4 1 -4 1 -4 1 -4 1 -4 1 -4 1 -4 1 -4 1 -4 1 -4 1 -4 1 -4 1 -4 1 -4 1 -4 1 -4 1 -4 1 -4 1 -4 1 -4 1 -4 1 -4 1 -4 1 -4 1 -4 1 -4 1 -4 1 -4 1 -4 1 -4 1 -4 1 -4 1 -4 1 -4 1 -4 1 -4 1 -4 1 -4 1 -4 1 -4 1 -4 1 -4 1 -4 1 -4 1 -4 1 -4 1 -4 1 -4 1 -4 1 -4 1 -4 1 -4 1 -4 1 -4 1 -4 1 -4 1 -4 1 -4 1 -4 1 -4 1 -4 1 -4 1 -4 1 -4 1 -4 1 -4 1 -4 1 -4 1 -4 1 -4 1 -4 1 -4 1 -4 1 -4 1 -4 1 -4 1 -4 1 -4 1 -4 1 -4 1 -4 1 -4 1 -4 1 -4 1 -4 1 -4 1 -4 1 -4 1 -4 1 -4 1 -4 1 -4 1 -4 1 -4 1 -4 1 -4 1 -4 1 -4 1 -4 1 -4 1 -4 1 -4 1 -4 1 -4 1 -4 1 -4 1 -4 1 -4 1 -4 1 -4 1 -4 1 -4 1 -4 1 -4 1 -4 1 -4 1 -4 1 -4 1 -4 1 -4 1 -4 1 -4 1 -4 1 -4 1 -4 1 -4 1 -4 1 -4 1 -4 1 -4 1 -4 1 -4 1 -4 1 -4 1 -4 1 -4 1 -4 1 -4 1 -4 1 -4 1 -4 1 -4 1 -4 1 -4 1 -4 1 -4 1 -4 1 -4 1 -4 1 -4 1 -4 1 -4 1 -4 1 -4 1 -4 1 -4 1 -4 1 -4 1 -4 1 -4 1 -4 1 -4 1 -4 1 -4 1 -4 1 -4 1 -4 1 -4 1 -4 1 -4 1 -4 1 -4 1 -4 1 -4 1 -4 1 -4 1 -4 1 -4 1 -4 1 -4 1 -4 1 -4 1 -4 1 -4 1 -4 1 -4 1 -4 1 -4 1 -4 1 -4 1 -4 1 -4 1 -4 1 -4 1 -4 1 -4 1 -4 1 -4 1 -4 1 -4 1 -4 1 -4 1 -4 1 -4 1 -4 1 -4 1 -4 1 -4 1 -4 1 -4 1 -4 1 -4 1 -4 1 -4 1 -4 1 -4 1 -4 1 -4 1 -4 1 -4 1 -4 1 -4 1 -4 1 -4 1 -4 1 -4 1 -4 1 -4 1 -4 1 -4 1 -4 1 -4 1 -4 1 -4 1 -4 1 -4 1 -4 1 -4 1 -4 1 -4 1 -4 1 -4 1 -4 1 -4 1 -4 1 -4 1 -4 1 -4 1 -4 1 -4 1 -4 1 -4 1 -4 1 -4 1 -4 1 -4 1 -4 1 -4 1 -4 1 -4 1 -4 1 -4 1 -4 1 -4 1 -4 1 -4 1 -4 1 -4 1 -4 1 -4 1 -4 1 -4 1 -4 1 -4 1 -4 1 -4 1 -4 1 -4 1 -4 1 -4 1 -4 1 -4 1 -4 1 -4 1 -4 1 -4 1 -4 1 -4 1 -4 1 -4 1 -4 1 -4 1 -4 1 -4 1 -4 1 -4 1 -4 1 -4 1 -4 1 -4 1 -4 1 -4 1 -4 1 -4 1 -4 1 -4 1 -4 1 -4 1 -4 1 -4 1 -4 1 -4 1 -4 1 -4 1 -4 1 -4 1 -4 1 -4 1 -4 1 -4 1 -4 1 -4 1 -4 1 -4 1 -4 1 -4 1 -4 1 -4 1 -4 1 -4 1 -4 1 -4 1 -4 1 -4 1 -4 1 -4 1 -4 1 -4 1 -4 1 -4 1 -4 1 -4 1 -4 1 -4 1 -4 1 -4 1 -4 1 -4 1 -4 1 -4 1 -4 1 -4 1 -4 1 -4 1 -4 1 -4 1 -4 1 -4 1 -4 1 -4 1 -4 1 -4 1 -4 1 -4 1 -4 1 -4 1 -4 1 -4 1 -4 1 -4 1 -4"
          ],
          "name": "stdout"
        },
        {
          "output_type": "error",
          "ename": "RecursionError",
          "evalue": "ignored",
          "traceback": [
            "\u001b[0;31m---------------------------------------------------------------------------\u001b[0m",
            "\u001b[0;31mRecursionError\u001b[0m                            Traceback (most recent call last)",
            "\u001b[0;32m<ipython-input-4-6aae6632f74d>\u001b[0m in \u001b[0;36m<module>\u001b[0;34m()\u001b[0m\n\u001b[1;32m     15\u001b[0m \u001b[0;32mfor\u001b[0m \u001b[0m_\u001b[0m \u001b[0;32min\u001b[0m \u001b[0mrange\u001b[0m\u001b[0;34m(\u001b[0m\u001b[0mt\u001b[0m\u001b[0;34m)\u001b[0m\u001b[0;34m:\u001b[0m\u001b[0;34m\u001b[0m\u001b[0;34m\u001b[0m\u001b[0m\n\u001b[1;32m     16\u001b[0m     \u001b[0mn\u001b[0m\u001b[0;34m=\u001b[0m\u001b[0mint\u001b[0m\u001b[0;34m(\u001b[0m\u001b[0minput\u001b[0m\u001b[0;34m(\u001b[0m\u001b[0;34m)\u001b[0m\u001b[0;34m)\u001b[0m\u001b[0;34m\u001b[0m\u001b[0;34m\u001b[0m\u001b[0m\n\u001b[0;32m---> 17\u001b[0;31m     \u001b[0mprintfun\u001b[0m\u001b[0;34m(\u001b[0m\u001b[0mn\u001b[0m\u001b[0;34m,\u001b[0m\u001b[0mn\u001b[0m\u001b[0;34m,\u001b[0m\u001b[0;36m0\u001b[0m\u001b[0;34m)\u001b[0m\u001b[0;34m\u001b[0m\u001b[0;34m\u001b[0m\u001b[0m\n\u001b[0m\u001b[1;32m     18\u001b[0m     \u001b[0mprint\u001b[0m\u001b[0;34m(\u001b[0m\u001b[0;34m)\u001b[0m\u001b[0;34m\u001b[0m\u001b[0;34m\u001b[0m\u001b[0m\n",
            "\u001b[0;32m<ipython-input-4-6aae6632f74d>\u001b[0m in \u001b[0;36mprintfun\u001b[0;34m(N, val, cnt)\u001b[0m\n\u001b[1;32m      8\u001b[0m         \u001b[0;32melse\u001b[0m\u001b[0;34m:\u001b[0m\u001b[0;34m\u001b[0m\u001b[0;34m\u001b[0m\u001b[0m\n\u001b[1;32m      9\u001b[0m             \u001b[0mval\u001b[0m\u001b[0;34m=\u001b[0m\u001b[0mval\u001b[0m\u001b[0;34m+\u001b[0m\u001b[0;36m5\u001b[0m\u001b[0;34m\u001b[0m\u001b[0;34m\u001b[0m\u001b[0m\n\u001b[0;32m---> 10\u001b[0;31m         \u001b[0mprintfun\u001b[0m\u001b[0;34m(\u001b[0m\u001b[0mN\u001b[0m\u001b[0;34m,\u001b[0m\u001b[0mval\u001b[0m\u001b[0;34m,\u001b[0m\u001b[0mcnt\u001b[0m\u001b[0;34m+\u001b[0m\u001b[0;36m1\u001b[0m\u001b[0;34m)\u001b[0m\u001b[0;34m\u001b[0m\u001b[0;34m\u001b[0m\u001b[0m\n\u001b[0m\u001b[1;32m     11\u001b[0m \u001b[0;34m\u001b[0m\u001b[0m\n\u001b[1;32m     12\u001b[0m \u001b[0;34m\u001b[0m\u001b[0m\n",
            "... last 1 frames repeated, from the frame below ...\n",
            "\u001b[0;32m<ipython-input-4-6aae6632f74d>\u001b[0m in \u001b[0;36mprintfun\u001b[0;34m(N, val, cnt)\u001b[0m\n\u001b[1;32m      8\u001b[0m         \u001b[0;32melse\u001b[0m\u001b[0;34m:\u001b[0m\u001b[0;34m\u001b[0m\u001b[0;34m\u001b[0m\u001b[0m\n\u001b[1;32m      9\u001b[0m             \u001b[0mval\u001b[0m\u001b[0;34m=\u001b[0m\u001b[0mval\u001b[0m\u001b[0;34m+\u001b[0m\u001b[0;36m5\u001b[0m\u001b[0;34m\u001b[0m\u001b[0;34m\u001b[0m\u001b[0m\n\u001b[0;32m---> 10\u001b[0;31m         \u001b[0mprintfun\u001b[0m\u001b[0;34m(\u001b[0m\u001b[0mN\u001b[0m\u001b[0;34m,\u001b[0m\u001b[0mval\u001b[0m\u001b[0;34m,\u001b[0m\u001b[0mcnt\u001b[0m\u001b[0;34m+\u001b[0m\u001b[0;36m1\u001b[0m\u001b[0;34m)\u001b[0m\u001b[0;34m\u001b[0m\u001b[0;34m\u001b[0m\u001b[0m\n\u001b[0m\u001b[1;32m     11\u001b[0m \u001b[0;34m\u001b[0m\u001b[0m\n\u001b[1;32m     12\u001b[0m \u001b[0;34m\u001b[0m\u001b[0m\n",
            "\u001b[0;31mRecursionError\u001b[0m: maximum recursion depth exceeded in comparison"
          ]
        }
      ]
    },
    {
      "cell_type": "code",
      "metadata": {
        "id": "Tsc9ZgskN-H8",
        "colab_type": "code",
        "colab": {}
      },
      "source": [
        "# print Reverse of a string using recursion\n",
        "s=\"i love my india\"\n",
        "def rev(s,l,r):\n",
        "  if l>r:\n",
        "    return\n",
        "  else:\n",
        "    rev(s,l+1,r)\n",
        "    print(s[l],end=\"\")"
      ],
      "execution_count": 9,
      "outputs": []
    },
    {
      "cell_type": "code",
      "metadata": {
        "id": "KKaKbUwRPrwW",
        "colab_type": "code",
        "colab": {
          "base_uri": "https://localhost:8080/",
          "height": 34
        },
        "outputId": "43bc4ba1-07e5-44a3-e3c6-e407512151a4"
      },
      "source": [
        "rev(s,0,len(s)-1)"
      ],
      "execution_count": 10,
      "outputs": [
        {
          "output_type": "stream",
          "text": [
            "aidni ym evol i"
          ],
          "name": "stdout"
        }
      ]
    },
    {
      "cell_type": "code",
      "metadata": {
        "id": "waG0RQOqPtsB",
        "colab_type": "code",
        "colab": {
          "base_uri": "https://localhost:8080/",
          "height": 51
        },
        "outputId": "01608168-ce3a-4fd0-dee8-4a76be0a990d"
      },
      "source": [
        "# Reverse words of a sentence\n",
        "s=input().strip()\n",
        "s=s+\" \";\n",
        "k,chr=\"\",\"\"\n",
        "for i in s:\n",
        "  if i != \" \":\n",
        "    chr+=i\n",
        "  else:\n",
        "    k=chr+\" \"+k;\n",
        "    chr=\"\"\n",
        "print(k.strip())"
      ],
      "execution_count": 15,
      "outputs": [
        {
          "output_type": "stream",
          "text": [
            "i love prog very much\n",
            "much very prog love i\n"
          ],
          "name": "stdout"
        }
      ]
    },
    {
      "cell_type": "code",
      "metadata": {
        "id": "QLuDdUUaQn9c",
        "colab_type": "code",
        "colab": {
          "base_uri": "https://localhost:8080/",
          "height": 51
        },
        "outputId": "2e737a4e-d059-4af4-b5f8-2a67c8441c3e"
      },
      "source": [
        "#Insertion Sort- Best- O(n) worst and avg- O(n^2)\n",
        "l=list(map(int,input().split()))\n",
        "n=len(l)\n",
        "for i in range(1,n):\n",
        "  hole=i\n",
        "  value=l[i]\n",
        "  while hole>0 and value<l[hole-1]:\n",
        "    l[hole]=l[hole-1]\n",
        "    hole-=1\n",
        "  l[hole]=value\n",
        "l"
      ],
      "execution_count": 3,
      "outputs": [
        {
          "output_type": "stream",
          "text": [
            "8 5 1 6\n"
          ],
          "name": "stdout"
        },
        {
          "output_type": "execute_result",
          "data": {
            "text/plain": [
              "[1, 5, 6, 8]"
            ]
          },
          "metadata": {
            "tags": []
          },
          "execution_count": 3
        }
      ]
    },
    {
      "cell_type": "code",
      "metadata": {
        "id": "QYPtbk83qwP3",
        "colab_type": "code",
        "colab": {
          "base_uri": "https://localhost:8080/",
          "height": 51
        },
        "outputId": "ee058d09-92b1-49a1-8b59-fc6fcdf80080"
      },
      "source": [
        "#Selection sort: best avg and worst is O(n^2)\n",
        "l=list(map(int,input().split()))\n",
        "n=len(l)\n",
        "for i in range(0,n):\n",
        "  min_ind=i\n",
        "  for j in range(i+1,n):\n",
        "    if l[j]<l[min_ind]:\n",
        "      min_ind=j\n",
        "  l[i],l[min_ind]=l[min_ind],l[i]\n",
        "l"
      ],
      "execution_count": 8,
      "outputs": [
        {
          "output_type": "stream",
          "text": [
            "5 4 6 2 7 8 3 2 1\n"
          ],
          "name": "stdout"
        },
        {
          "output_type": "execute_result",
          "data": {
            "text/plain": [
              "[1, 2, 2, 3, 4, 5, 6, 7, 8]"
            ]
          },
          "metadata": {
            "tags": []
          },
          "execution_count": 8
        }
      ]
    },
    {
      "cell_type": "code",
      "metadata": {
        "id": "4ob-4DJnrwc0",
        "colab_type": "code",
        "colab": {
          "base_uri": "https://localhost:8080/",
          "height": 51
        },
        "outputId": "1c0c5bbc-e920-427c-883b-0e7a023419b4"
      },
      "source": [
        "# Bubble Sort \n",
        "l=list(map(int,input().split()))\n",
        "n=len(l)\n",
        "for i in range(0,n-1):\n",
        "  flag=0\n",
        "  for j in range(0,n-1-i):\n",
        "    if (l[j]>l[j+1]):\n",
        "      l[j],l[j+1]=l[j+1],l[j]\n",
        "      flag=1\n",
        "  if flag==0:\n",
        "    break\n",
        "l"
      ],
      "execution_count": 7,
      "outputs": [
        {
          "output_type": "stream",
          "text": [
            " 1 2 3 4 5\n"
          ],
          "name": "stdout"
        },
        {
          "output_type": "execute_result",
          "data": {
            "text/plain": [
              "[1, 2, 3, 4, 5]"
            ]
          },
          "metadata": {
            "tags": []
          },
          "execution_count": 7
        }
      ]
    },
    {
      "cell_type": "code",
      "metadata": {
        "id": "Vurb_7-YsVDD",
        "colab_type": "code",
        "colab": {}
      },
      "source": [
        ""
      ],
      "execution_count": null,
      "outputs": []
    }
  ]
}